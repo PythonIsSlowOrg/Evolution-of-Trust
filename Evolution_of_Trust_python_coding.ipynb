{
  "cells": [
    {
      "cell_type": "markdown",
      "metadata": {
        "id": "view-in-github",
        "colab_type": "text"
      },
      "source": [
        "<a href=\"https://colab.research.google.com/github/Willie169/temp/blob/main/Evolution_of_Trust_python_coding.ipynb\" target=\"_parent\"><img src=\"https://colab.research.google.com/assets/colab-badge.svg\" alt=\"Open In Colab\"/></a>"
      ]
    },
    {
      "cell_type": "code",
      "execution_count": null,
      "metadata": {
        "id": "stMwC91P6ppb"
      },
      "outputs": [],
      "source": [
        "TT = [2, 2] #trust and trust\n",
        "TB = [-1, 3] #trsut and betrayal\n",
        "BB = [0, 0] #betrayal and betrayal\n",
        "def one_round(input1, input2):\n",
        "  if input1 == input2 == 1: #(1, 1)\n",
        "    return TT\n",
        "  elif input1 == 1: #(1, 0)\n",
        "    return TB\n",
        "  elif input2 == 1: #(0, 1)\n",
        "    return [TB[1], TB[0]]\n",
        "  else: #(0, 0)\n",
        "    return BB"
      ]
    },
    {
      "cell_type": "code",
      "execution_count": null,
      "metadata": {
        "id": "0TZAVTzq_-M6"
      },
      "outputs": [],
      "source": [
        "import numpy as np\n",
        "import random\n",
        "class Gamer:\n",
        "  def __init__(self):\n",
        "    attributes_main = {'former_round': None, 'output': None, 'points': 0}\n",
        "    for name, value in attributes_main.items():\n",
        "      setattr(self, name, value)"
      ]
    },
    {
      "cell_type": "code",
      "execution_count": null,
      "metadata": {
        "id": "_6iQFfnSb8hp"
      },
      "outputs": [],
      "source": [
        "class copycat(Gamer):\n",
        "  def __init__(self):\n",
        "    Gamer.__init__(self)\n",
        "  def make_decision(self): #copycat copies the other's decision\n",
        "    if self.former_round == None:\n",
        "      self.output = 1\n",
        "      return self.output\n",
        "    else:\n",
        "      self.output = self.former_round\n",
        "      return self.output\n",
        "\n",
        "class the_believer(Gamer):\n",
        "  def __init__(self):\n",
        "    Gamer.__init__(self)\n",
        "  def make_decision(self): #the_believer always trusts\n",
        "    self.output = 1\n",
        "    return self.output\n",
        "\n",
        "class the_selfish(Gamer):\n",
        "  def __init__(self):\n",
        "    Gamer.__init__(self)\n",
        "  def make_decision(self): #the_selfish always betrays\n",
        "    self.output = 0\n",
        "    return self.output\n",
        "\n",
        "class the_chaos(Gamer):\n",
        "  def __init__(self):\n",
        "    Gamer.__init__(self)\n",
        "  def make_decision(self): #the_choas returns random value\n",
        "    self.output = random.randint(0, 1)\n",
        "    return self.output"
      ]
    },
    {
      "cell_type": "code",
      "execution_count": null,
      "metadata": {
        "colab": {
          "base_uri": "https://localhost:8080/"
        },
        "id": "mu3gvIwrMdZi",
        "outputId": "05ff8f29-1830-476e-8a5e-bafe5fd4a459"
      },
      "outputs": [
        {
          "output_type": "execute_result",
          "data": {
            "text/plain": [
              "[(0, 6),\n",
              " (0, 5),\n",
              " (0, 4),\n",
              " (0, 3),\n",
              " (0, 2),\n",
              " (0, 1),\n",
              " (1, 6),\n",
              " (1, 5),\n",
              " (1, 4),\n",
              " (1, 3),\n",
              " (1, 2),\n",
              " (2, 6),\n",
              " (2, 5),\n",
              " (2, 4),\n",
              " (2, 3),\n",
              " (3, 6),\n",
              " (3, 5),\n",
              " (3, 4),\n",
              " (4, 6),\n",
              " (4, 5),\n",
              " (5, 6)]"
            ]
          },
          "metadata": {},
          "execution_count": 4
        }
      ],
      "source": [
        "def get_pairs(listx):\n",
        "  listp =[]\n",
        "  for i in range(len(listx)):\n",
        "    for j in range(len(listx)-i-1):\n",
        "      listp.append((i, len(listx)-j-1))\n",
        "  return listp\n",
        "get_pairs([1,2,3,4,5,6,7])"
      ]
    },
    {
      "cell_type": "code",
      "execution_count": null,
      "metadata": {
        "id": "_pJEi7urnvhs",
        "outputId": "9bf0b772-a70c-40d9-c45c-f6d33f56b48e",
        "colab": {
          "base_uri": "https://localhost:8080/"
        }
      },
      "outputs": [
        {
          "output_type": "stream",
          "name": "stdout",
          "text": [
            "[-1, 3] \n",
            " 400\n",
            "947880 948053 -249892 348769\n",
            "{<__main__.copycat object at 0x7b2378091540>: 100, <__main__.the_believer object at 0x7b2378091570>: 100, <__main__.the_selfish object at 0x7b2378091690>: 100, <__main__.the_chaos object at 0x7b23780916f0>: 100}\n"
          ]
        }
      ],
      "source": [
        "class game():\n",
        "  def __init__(self):\n",
        "    attributes_game = {'gamers': [], 'num_of_gamers': 0, 'num_of_turns': 10,\n",
        "               'TT': [2,2], 'TB': [-1, 3], 'BB': [0, 0],\n",
        "               'gamer_types': {}}\n",
        "    for name, value in attributes_game.items():\n",
        "      setattr(self, name, value)\n",
        "  def one_round(self, input1, input2):\n",
        "    if input1 == input2 == 1: #(1, 1)\n",
        "      return self.TT\n",
        "    elif input1 == 1: #(1, 0)\n",
        "      return self.TB\n",
        "    elif input2 == 1: #(0, 1)\n",
        "      return [self.TB[1], self.TB[0]]\n",
        "    else: #(0, 0)\n",
        "      return self.BB\n",
        "  def add_gamer(self, gamer, n):\n",
        "    if type(gamer) in self.gamer_types:\n",
        "      self.gamer_types[gamer] += n\n",
        "    else:\n",
        "      self.gamer_types[gamer] = n\n",
        "    for i in range(n):\n",
        "      self.gamers.append(gamer)\n",
        "      self.num_of_gamers += 1\n",
        "  def game_iteration(self):\n",
        "    pairs = get_pairs(self.gamers)\n",
        "    for l in pairs:\n",
        "      for i in range(10):\n",
        "        gamer1 = self.gamers[l[0]]\n",
        "        gamer2 = self.gamers[l[1]]\n",
        "        gamer1.make_decision()\n",
        "        gamer2.make_decision()\n",
        "        gamer1.points += one_round(gamer1.output, gamer2.output)[1]\n",
        "        gamer2.points += one_round(gamer1.output, gamer2.output)[0]\n",
        "        gamer1.former_round = gamer1.output\n",
        "        gamer2.former_round = gamer2.output\n",
        "\n",
        "\n",
        "game1 = game()\n",
        "game1.add_gamer(copycat(), 100)\n",
        "game1.add_gamer(the_believer(), 100)\n",
        "game1.add_gamer(the_selfish(), 100)\n",
        "game1.add_gamer(the_chaos(), 100)\n",
        "print(game1.one_round(1, 0), '\\n', game1.num_of_gamers, end='\\n')\n",
        "game1.game_iteration()\n",
        "print(game1.gamers[50].points, game1.gamers[150].points, game1.gamers[250].points, game1.gamers[350].points)\n",
        "print(game1.gamer_types)"
      ]
    }
  ],
  "metadata": {
    "colab": {
      "provenance": [],
      "include_colab_link": true
    },
    "kernelspec": {
      "display_name": "Python 3",
      "name": "python3"
    },
    "language_info": {
      "name": "python"
    }
  },
  "nbformat": 4,
  "nbformat_minor": 0
}